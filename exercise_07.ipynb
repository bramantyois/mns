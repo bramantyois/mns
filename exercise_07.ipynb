{
 "cells": [
  {
   "cell_type": "markdown",
   "metadata": {},
   "source": [
    "Model of Neural System\n",
    "\n",
    "Computer Practical 7\n",
    "\n",
    "Bramantyo Ibrahim Supriyatno"
   ]
  },
  {
   "cell_type": "code",
   "execution_count": 1,
   "metadata": {},
   "outputs": [],
   "source": [
    "import numpy as np\n",
    "import matplotlib.pyplot as plt"
   ]
  },
  {
   "cell_type": "markdown",
   "metadata": {},
   "source": [
    "# 1. Hodgkin-Huxley model of action potential generation"
   ]
  },
  {
   "cell_type": "code",
   "execution_count": 2,
   "metadata": {},
   "outputs": [],
   "source": [
    "def alpha_n(v):\n",
    "    # v in mV\n",
    "    alpha_ms =  0.01 * (v  + 55) / (1 - np.exp(-0.1 * (v + 55)))\n",
    "    return alpha_ms"
   ]
  },
  {
   "cell_type": "code",
   "execution_count": 3,
   "metadata": {},
   "outputs": [],
   "source": [
    "def beta_n(v):\n",
    "    # v in mV\n",
    "    beta_ms = 0.125 * np.exp(-0.0125*(v + 65))\n",
    "    return beta_ms"
   ]
  },
  {
   "cell_type": "code",
   "execution_count": 4,
   "metadata": {},
   "outputs": [],
   "source": [
    "def alpha_m(v):\n",
    "    return 0.1 * (v+40) / (1-np.exp(-0.1*(v + 40)))"
   ]
  },
  {
   "cell_type": "code",
   "execution_count": 5,
   "metadata": {},
   "outputs": [],
   "source": [
    "def beta_m(v):\n",
    "    return 4 * np.exp(-0.0556*(v+65))"
   ]
  },
  {
   "cell_type": "code",
   "execution_count": 6,
   "metadata": {},
   "outputs": [],
   "source": [
    "def alpha_h(v):\n",
    "    return 0.07 * np.exp(-0.05 * (v + 65))"
   ]
  },
  {
   "cell_type": "code",
   "execution_count": 7,
   "metadata": {},
   "outputs": [],
   "source": [
    "def beta_h(v):\n",
    "    return 1 / (1 + np.exp(-0.1 * (v+35)))"
   ]
  },
  {
   "cell_type": "code",
   "execution_count": 51,
   "metadata": {},
   "outputs": [],
   "source": [
    "def first_order_kinetic(a_func, b_func, v, x):\n",
    "    return a_func(v)*(1.-x) - b_func(v)*x    "
   ]
  },
  {
   "cell_type": "code",
   "execution_count": 52,
   "metadata": {},
   "outputs": [],
   "source": [
    "def sodium_current(v, m, h, e_na=50, conductance=120e-9):\n",
    "    return conductance*np.power(m,3)*h*(v - e_na) #in mA"
   ]
  },
  {
   "cell_type": "code",
   "execution_count": 53,
   "metadata": {},
   "outputs": [],
   "source": [
    "def potassium_current(v, n, e_k=-77, conductance=36e-9):#v in mV\n",
    "    return conductance * np.power(n,4) * (v - e_k) #in mA"
   ]
  },
  {
   "cell_type": "code",
   "execution_count": 54,
   "metadata": {},
   "outputs": [],
   "source": [
    "def leak_current(v, e_leak=-54.387, conductance=0.3e-9):\n",
    "    return conductance*(v - e_leak)"
   ]
  },
  {
   "cell_type": "code",
   "execution_count": 55,
   "metadata": {},
   "outputs": [],
   "source": [
    "def hodgkin_huxley_model(v, i_na, i_k, i_leak, i_e, cm):\n",
    "    return (-i_na - i_k - i_leak + i_e) / cm    "
   ]
  },
  {
   "cell_type": "code",
   "execution_count": 65,
   "metadata": {},
   "outputs": [],
   "source": [
    "def hh_euler(params, init_values, t, dt):\n",
    "    v_res = np.zeros((t.shape[0]+1))\n",
    "    ms = np.zeros_like(v_res)\n",
    "    hs = np.zeros_like(v_res)\n",
    "    ns = np.zeros_like(v_res)    \n",
    "    i_nas = np.zeros_like(v_res) \n",
    "    i_ks = np.zeros_like(v_res)\n",
    "    i_leaks = np.zeros_like(v_res)\n",
    "    ie = np.zeros_like(v_res)\n",
    "    \n",
    "    v_res[0] = init_values['v']\n",
    "    ms[0] = init_values['m']\n",
    "    hs[0] = init_values['h']\n",
    "    ns[0] = init_values['n']    \n",
    "    \n",
    "    if params['is_i_time_dependent']:        \n",
    "        idx_triggered = t>params['t_trigger']\n",
    "        ie[idx_triggered] = params['ie']\n",
    "        ie[~idx_triggered] = params['ie_pt']         \n",
    "    else:\n",
    "        ie.fill(params['ie'])\n",
    "    \n",
    "    for i in range(1, v_res.shape[0]): \n",
    "        ns[i] = ns[i-1] + dt *  first_order_kinetic(alpha_n, beta_n, v_res[i], ns[i-1])\n",
    "        ms[i] = ms[i-1] + dt *  first_order_kinetic(alpha_m, beta_m, v_res[i], ms[i-1])\n",
    "        hs[i] = hs[i-1] + dt *  first_order_kinetic(alpha_h, beta_h, v_res[i], hs[i-1])\n",
    "        \n",
    "        i_nas[i] = sodium_current(v_res[i-1], ms[i-1], hs[i-1])\n",
    "        i_ks[i] = potassium_current(v_res[i-1], ns[i-1])\n",
    "        i_leaks[i] = leak_current(v_res[i-1]) \n",
    "        \n",
    "        v_res[i] = v_res[i-1] + dt * hodgkin_huxley_model(v_res[i-1], i_nas[i], i_ks[i], i_leaks[i], ie[i], params['cm'])\n",
    "        #v_res[i] = v_res[i-1]\n",
    "    return v_res[1:], i_leaks[1:], i_ks[1:], i_nas[1:], hs[1:], ms[1:], ns[1:]"
   ]
  },
  {
   "cell_type": "code",
   "execution_count": 66,
   "metadata": {},
   "outputs": [
    {
     "name": "stderr",
     "output_type": "stream",
     "text": [
      "<ipython-input-55-8f209f470a17>:2: RuntimeWarning: overflow encountered in double_scalars\n",
      "  return (-i_na - i_k - i_leak + i_e) / cm\n",
      "<ipython-input-65-ec44e4c8a70f>:32: RuntimeWarning: invalid value encountered in double_scalars\n",
      "  v_res[i] = v_res[i-1] + dt * hodgkin_huxley_model(v_res[i-1], i_nas[i], i_ks[i], i_leaks[i], ie[i], params['cm'])\n"
     ]
    }
   ],
   "source": [
    "init_values = {}\n",
    "init_values['v'] = -65\n",
    "init_values['m'] = 0.0529\n",
    "init_values['h'] = 0.5961\n",
    "init_values['n'] = 0.3177\n",
    "\n",
    "params = {}\n",
    "params['is_i_time_dependent'] = False\n",
    "params['ie'] = 0\n",
    "params['cm'] = 1e-12\n",
    "\n",
    "del_t = 1e-4\n",
    "t = np.arange(0, 10, step=del_t)\n",
    "ret = hh_euler(params, init_values, t, del_t)"
   ]
  },
  {
   "cell_type": "code",
   "execution_count": 67,
   "metadata": {},
   "outputs": [
    {
     "data": {
      "text/plain": [
       "[<matplotlib.lines.Line2D at 0x1864689f310>]"
      ]
     },
     "execution_count": 67,
     "metadata": {},
     "output_type": "execute_result"
    },
    {
     "data": {
      "image/png": "[encoded data removed]",
      "text/plain": [
       "<Figure size 432x288 with 1 Axes>"
      ]
     },
     "metadata": {
      "needs_background": "light"
     },
     "output_type": "display_data"
    }
   ],
   "source": [
    "plt.plot(t,ret[3], label='h')\n",
    "plt.plot(t,ret[4], label='m')\n",
    "plt.plot(t,ret[5], label='s')"
   ]
  },
  {
   "cell_type": "code",
   "execution_count": 69,
   "metadata": {},
   "outputs": [
    {
     "data": {
      "text/plain": [
       "[<matplotlib.lines.Line2D at 0x186469139a0>]"
      ]
     },
     "execution_count": 69,
     "metadata": {},
     "output_type": "execute_result"
    },
    {
     "data": {
      "image/png": "[encoded data removed]",
      "text/plain": [
       "<Figure size 432x288 with 1 Axes>"
      ]
     },
     "metadata": {
      "needs_background": "light"
     },
     "output_type": "display_data"
    }
   ],
   "source": [
    "plt.plot(ret[1], label='h')\n",
    "#plt.plot(ret[2], label='h')"
   ]
  },
  {
   "cell_type": "code",
   "execution_count": null,
   "metadata": {},
   "outputs": [],
   "source": []
  },
  {
   "cell_type": "code",
   "execution_count": null,
   "metadata": {},
   "outputs": [],
   "source": []
  }
 ],
 "metadata": {
  "kernelspec": {
   "display_name": "Python 3",
   "language": "python",
   "name": "python3"
  },
  "language_info": {
   "codemirror_mode": {
    "name": "ipython",
    "version": 3
   },
   "file_extension": ".py",
   "mimetype": "text/x-python",
   "name": "python",
   "nbconvert_exporter": "python",
   "pygments_lexer": "ipython3",
   "version": "3.8.5"
  }
 },
 "nbformat": 4,
 "nbformat_minor": 4
}
