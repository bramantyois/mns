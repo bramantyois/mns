{
 "cells": [
  {
   "cell_type": "code",
   "execution_count": 1,
   "metadata": {},
   "outputs": [],
   "source": [
    "import math\n",
    "import numpy as np\n",
    "import matplotlib.pyplot as plt"
   ]
  },
  {
   "cell_type": "code",
   "execution_count": 2,
   "metadata": {},
   "outputs": [],
   "source": [
    "v_idx = 0\n",
    "u_idx = 1"
   ]
  },
  {
   "cell_type": "code",
   "execution_count": 3,
   "metadata": {},
   "outputs": [],
   "source": [
    "def backward_euler(func, dfunc, past_states, constants, error_min = 1e-12, clip_lim = 5):\n",
    "    temp_states = past_states.copy()\n",
    "    error = np.ones_like(temp_states)\n",
    "\n",
    "    while np.amax(np.absolute(error)) > error_min:\n",
    "        f = func(temp_states, past_states, constants)\n",
    "        df = dfunc(temp_states, past_states, constants)\n",
    "\n",
    "        error = np.dot(np.linalg.inv(df), f)\n",
    "        error = np.clip(error, -clip_lim, clip_lim)\n",
    "\n",
    "        temp_states = np.subtract(temp_states, error)\n",
    "    return temp_states"
   ]
  },
  {
   "cell_type": "code",
   "execution_count": 4,
   "metadata": {},
   "outputs": [],
   "source": [
    "def izhi_f(states, past_states, constants):\n",
    "    F = np.zeros((2,1))\n",
    "    \n",
    "    F[0] = past_states[v_idx] -states[v_idx] + constants['del_t']*(0.04 * states[v_idx]**2 + 5*states[v_idx] + 140 - states[u_idx] + constants['i'])\n",
    "    F[1] = past_states[u_idx] - states[u_idx] + constants['del_t']*constants['a']*(constants['b'] * states[v_idx] - states[u_idx])\n",
    "    \n",
    "    return F"
   ]
  },
  {
   "cell_type": "code",
   "execution_count": 5,
   "metadata": {},
   "outputs": [],
   "source": [
    "def izhi_df(states, past_states, constants):\n",
    "    \n",
    "    j_f = np.zeros((2,2))\n",
    "    \n",
    "    j_f[0][0] = - 1 + constants['del_t']*(0.08*states[v_idx] + 5)\n",
    "    j_f[0][1] = -constants['del_t']\n",
    "    \n",
    "    j_f[1][0] = constants['del_t']*constants['a']*constants['b']\n",
    "    j_f[1][1] = - 1 - constants['del_t']*constants['a']\n",
    "    \n",
    "    return j_f"
   ]
  },
  {
   "cell_type": "code",
   "execution_count": 6,
   "metadata": {},
   "outputs": [],
   "source": [
    "def compute(input_i, init_states, constants):\n",
    "    ret_val = []\n",
    "    past_states = init_states.copy()\n",
    "    for i in range(input_i.shape[0]):\n",
    "        constants['i'] = input_i[i]\n",
    "        past_states = backward_euler(izhi_f, izhi_df, past_states, constants)\n",
    "        if past_states[v_idx] > 30:\n",
    "            past_states[v_idx] = constants['c']\n",
    "            past_states[u_idx] += constants['d']\n",
    "        ret_val.append(past_states)\n",
    "    return np.array(ret_val).reshape(-1, past_states.shape[0])   "
   ]
  },
  {
   "cell_type": "markdown",
   "metadata": {},
   "source": [
    "# 1"
   ]
  },
  {
   "cell_type": "code",
   "execution_count": 11,
   "metadata": {},
   "outputs": [],
   "source": [
    "constants = {}\n",
    "constants['a'] = 0.1\n",
    "constants['b'] = 0.05\n",
    "constants['c'] = -50\n",
    "constants['d'] = 8\n",
    "\n",
    "sample_rate = 100\n",
    "max_t = 1\n",
    "constants['del_t'] = 1/sample_rate\n",
    "\n",
    "t = np.arange(0, max_t, step = constants['del_t'])\n",
    "i_s = np.linspace(0,1,2).tolist()\n",
    "\n",
    "results = []\n",
    "for i in i_s:\n",
    "    input_i = np.full(t.shape[0], i)\n",
    "    init_states = np.array([[-80],[0]])\n",
    "    result = compute(input_i, init_states, constants)\n",
    "    results.append(result)"
   ]
  },
  {
   "cell_type": "code",
   "execution_count": 13,
   "metadata": {},
   "outputs": [
    {
     "output_type": "display_data",
     "data": {
      "text/plain": "<Figure size 432x288 with 1 Axes>",
      "image/svg+xml": "<?xml version=\"1.0\" encoding=\"utf-8\" standalone=\"no\"?>\r\n<!DOCTYPE svg PUBLIC \"-//W3C//DTD SVG 1.1//EN\"\r\n  \"http://www.w3.org/Graphics/SVG/1.1/DTD/svg11.dtd\">\r\n<!-- Created with matplotlib (https://matplotlib.org/) -->\r\n<svg height=\"248.518125pt\" version=\"1.1\" viewBox=\"0 0 377.304687 248.518125\" width=\"377.304687pt\" xmlns=\"http://www.w3.org/2000/svg\" xmlns:xlink=\"http://www.w3.org/1999/xlink\">\r\n <metadata>\r\n  <rdf:RDF xmlns:cc=\"http://creativecommons.org/ns#\" xmlns:dc=\"http://purl.org/dc/elements/1.1/\" xmlns:rdf=\"http://www.w3.org/1999/02/22-rdf-syntax-ns#\">\r\n   <cc:Work>\r\n    <dc:type rdf:resource=\"http://purl.org/dc/dcmitype/StillImage\"/>\r\n    <dc:date>2021-01-22T17:03:29.553924</dc:date>\r\n    <dc:format>image/svg+xml</dc:format>\r\n    <dc:creator>\r\n     <cc:Agent>\r\n      <dc:title>Matplotlib v3.3.1, https://matplotlib.org/</dc:title>\r\n     </cc:Agent>\r\n    </dc:creator>\r\n   </cc:Work>\r\n  </rdf:RDF>\r\n </metadata>\r\n <defs>\r\n  <style type=\"text/css\">*{stroke-linecap:butt;stroke-linejoin:round;}</style>\r\n </defs>\r\n <g id=\"figure_1\">\r\n  <g id=\"patch_1\">\r\n   <path d=\"M 0 248.518125 \r\nL 377.304687 248.518125 \r\nL 377.304687 0 \r\nL 0 0 \r\nz\r\n\" style=\"fill:none;\"/>\r\n  </g>\r\n  <g id=\"axes_1\">\r\n   <g id=\"patch_2\">\r\n    <path d=\"M 35.304688 224.64 \r\nL 370.104688 224.64 \r\nL 370.104688 7.2 \r\nL 35.304688 7.2 \r\nz\r\n\" style=\"fill:#ffffff;\"/>\r\n   </g>\r\n   <g id=\"matplotlib.axis_1\">\r\n    <g id=\"xtick_1\">\r\n     <g id=\"line2d_1\">\r\n      <defs>\r\n       <path d=\"M 0 0 \r\nL 0 3.5 \r\n\" id=\"m01b2660582\" style=\"stroke:#000000;stroke-width:0.8;\"/>\r\n      </defs>\r\n      <g>\r\n       <use style=\"stroke:#000000;stroke-width:0.8;\" x=\"50.522869\" xlink:href=\"#m01b2660582\" y=\"224.64\"/>\r\n      </g>\r\n     </g>\r\n     <g id=\"text_1\">\r\n      <!-- 0.0 -->\r\n      <g transform=\"translate(42.571307 239.238438)scale(0.1 -0.1)\">\r\n       <defs>\r\n        <path d=\"M 31.78125 66.40625 \r\nQ 24.171875 66.40625 20.328125 58.90625 \r\nQ 16.5 51.421875 16.5 36.375 \r\nQ 16.5 21.390625 20.328125 13.890625 \r\nQ 24.171875 6.390625 31.78125 6.390625 \r\nQ 39.453125 6.390625 43.28125 13.890625 \r\nQ 47.125 21.390625 47.125 36.375 \r\nQ 47.125 51.421875 43.28125 58.90625 \r\nQ 39.453125 66.40625 31.78125 66.40625 \r\nz\r\nM 31.78125 74.21875 \r\nQ 44.046875 74.21875 50.515625 64.515625 \r\nQ 56.984375 54.828125 56.984375 36.375 \r\nQ 56.984375 17.96875 50.515625 8.265625 \r\nQ 44.046875 -1.421875 31.78125 -1.421875 \r\nQ 19.53125 -1.421875 13.0625 8.265625 \r\nQ 6.59375 17.96875 6.59375 36.375 \r\nQ 6.59375 54.828125 13.0625 64.515625 \r\nQ 19.53125 74.21875 31.78125 74.21875 \r\nz\r\n\" id=\"DejaVuSans-48\"/>\r\n        <path d=\"M 10.6875 12.40625 \r\nL 21 12.40625 \r\nL 21 0 \r\nL 10.6875 0 \r\nz\r\n\" id=\"DejaVuSans-46\"/>\r\n       </defs>\r\n       <use xlink:href=\"#DejaVuSans-48\"/>\r\n       <use x=\"63.623047\" xlink:href=\"#DejaVuSans-46\"/>\r\n       <use x=\"95.410156\" xlink:href=\"#DejaVuSans-48\"/>\r\n      </g>\r\n     </g>\r\n    </g>\r\n    <g id=\"xtick_2\">\r\n     <g id=\"line2d_2\">\r\n      <g>\r\n       <use style=\"stroke:#000000;stroke-width:0.8;\" x=\"112.010473\" xlink:href=\"#m01b2660582\" y=\"224.64\"/>\r\n      </g>\r\n     </g>\r\n     <g id=\"text_2\">\r\n      <!-- 0.2 -->\r\n      <g transform=\"translate(104.05891 239.238438)scale(0.1 -0.1)\">\r\n       <defs>\r\n        <path d=\"M 19.1875 8.296875 \r\nL 53.609375 8.296875 \r\nL 53.609375 0 \r\nL 7.328125 0 \r\nL 7.328125 8.296875 \r\nQ 12.9375 14.109375 22.625 23.890625 \r\nQ 32.328125 33.6875 34.8125 36.53125 \r\nQ 39.546875 41.84375 41.421875 45.53125 \r\nQ 43.3125 49.21875 43.3125 52.78125 \r\nQ 43.3125 58.59375 39.234375 62.25 \r\nQ 35.15625 65.921875 28.609375 65.921875 \r\nQ 23.96875 65.921875 18.8125 64.3125 \r\nQ 13.671875 62.703125 7.8125 59.421875 \r\nL 7.8125 69.390625 \r\nQ 13.765625 71.78125 18.9375 73 \r\nQ 24.125 74.21875 28.421875 74.21875 \r\nQ 39.75 74.21875 46.484375 68.546875 \r\nQ 53.21875 62.890625 53.21875 53.421875 \r\nQ 53.21875 48.921875 51.53125 44.890625 \r\nQ 49.859375 40.875 45.40625 35.40625 \r\nQ 44.1875 33.984375 37.640625 27.21875 \r\nQ 31.109375 20.453125 19.1875 8.296875 \r\nz\r\n\" id=\"DejaVuSans-50\"/>\r\n       </defs>\r\n       <use xlink:href=\"#DejaVuSans-48\"/>\r\n       <use x=\"63.623047\" xlink:href=\"#DejaVuSans-46\"/>\r\n       <use x=\"95.410156\" xlink:href=\"#DejaVuSans-50\"/>\r\n      </g>\r\n     </g>\r\n    </g>\r\n    <g id=\"xtick_3\">\r\n     <g id=\"line2d_3\">\r\n      <g>\r\n       <use style=\"stroke:#000000;stroke-width:0.8;\" x=\"173.498076\" xlink:href=\"#m01b2660582\" y=\"224.64\"/>\r\n      </g>\r\n     </g>\r\n     <g id=\"text_3\">\r\n      <!-- 0.4 -->\r\n      <g transform=\"translate(165.546513 239.238438)scale(0.1 -0.1)\">\r\n       <defs>\r\n        <path d=\"M 37.796875 64.3125 \r\nL 12.890625 25.390625 \r\nL 37.796875 25.390625 \r\nz\r\nM 35.203125 72.90625 \r\nL 47.609375 72.90625 \r\nL 47.609375 25.390625 \r\nL 58.015625 25.390625 \r\nL 58.015625 17.1875 \r\nL 47.609375 17.1875 \r\nL 47.609375 0 \r\nL 37.796875 0 \r\nL 37.796875 17.1875 \r\nL 4.890625 17.1875 \r\nL 4.890625 26.703125 \r\nz\r\n\" id=\"DejaVuSans-52\"/>\r\n       </defs>\r\n       <use xlink:href=\"#DejaVuSans-48\"/>\r\n       <use x=\"63.623047\" xlink:href=\"#DejaVuSans-46\"/>\r\n       <use x=\"95.410156\" xlink:href=\"#DejaVuSans-52\"/>\r\n      </g>\r\n     </g>\r\n    </g>\r\n    <g id=\"xtick_4\">\r\n     <g id=\"line2d_4\">\r\n      <g>\r\n       <use style=\"stroke:#000000;stroke-width:0.8;\" x=\"234.985679\" xlink:href=\"#m01b2660582\" y=\"224.64\"/>\r\n      </g>\r\n     </g>\r\n     <g id=\"text_4\">\r\n      <!-- 0.6 -->\r\n      <g transform=\"translate(227.034117 239.238438)scale(0.1 -0.1)\">\r\n       <defs>\r\n        <path d=\"M 33.015625 40.375 \r\nQ 26.375 40.375 22.484375 35.828125 \r\nQ 18.609375 31.296875 18.609375 23.390625 \r\nQ 18.609375 15.53125 22.484375 10.953125 \r\nQ 26.375 6.390625 33.015625 6.390625 \r\nQ 39.65625 6.390625 43.53125 10.953125 \r\nQ 47.40625 15.53125 47.40625 23.390625 \r\nQ 47.40625 31.296875 43.53125 35.828125 \r\nQ 39.65625 40.375 33.015625 40.375 \r\nz\r\nM 52.59375 71.296875 \r\nL 52.59375 62.3125 \r\nQ 48.875 64.0625 45.09375 64.984375 \r\nQ 41.3125 65.921875 37.59375 65.921875 \r\nQ 27.828125 65.921875 22.671875 59.328125 \r\nQ 17.53125 52.734375 16.796875 39.40625 \r\nQ 19.671875 43.65625 24.015625 45.921875 \r\nQ 28.375 48.1875 33.59375 48.1875 \r\nQ 44.578125 48.1875 50.953125 41.515625 \r\nQ 57.328125 34.859375 57.328125 23.390625 \r\nQ 57.328125 12.15625 50.6875 5.359375 \r\nQ 44.046875 -1.421875 33.015625 -1.421875 \r\nQ 20.359375 -1.421875 13.671875 8.265625 \r\nQ 6.984375 17.96875 6.984375 36.375 \r\nQ 6.984375 53.65625 15.1875 63.9375 \r\nQ 23.390625 74.21875 37.203125 74.21875 \r\nQ 40.921875 74.21875 44.703125 73.484375 \r\nQ 48.484375 72.75 52.59375 71.296875 \r\nz\r\n\" id=\"DejaVuSans-54\"/>\r\n       </defs>\r\n       <use xlink:href=\"#DejaVuSans-48\"/>\r\n       <use x=\"63.623047\" xlink:href=\"#DejaVuSans-46\"/>\r\n       <use x=\"95.410156\" xlink:href=\"#DejaVuSans-54\"/>\r\n      </g>\r\n     </g>\r\n    </g>\r\n    <g id=\"xtick_5\">\r\n     <g id=\"line2d_5\">\r\n      <g>\r\n       <use style=\"stroke:#000000;stroke-width:0.8;\" x=\"296.473283\" xlink:href=\"#m01b2660582\" y=\"224.64\"/>\r\n      </g>\r\n     </g>\r\n     <g id=\"text_5\">\r\n      <!-- 0.8 -->\r\n      <g transform=\"translate(288.52172 239.238438)scale(0.1 -0.1)\">\r\n       <defs>\r\n        <path d=\"M 31.78125 34.625 \r\nQ 24.75 34.625 20.71875 30.859375 \r\nQ 16.703125 27.09375 16.703125 20.515625 \r\nQ 16.703125 13.921875 20.71875 10.15625 \r\nQ 24.75 6.390625 31.78125 6.390625 \r\nQ 38.8125 6.390625 42.859375 10.171875 \r\nQ 46.921875 13.96875 46.921875 20.515625 \r\nQ 46.921875 27.09375 42.890625 30.859375 \r\nQ 38.875 34.625 31.78125 34.625 \r\nz\r\nM 21.921875 38.8125 \r\nQ 15.578125 40.375 12.03125 44.71875 \r\nQ 8.5 49.078125 8.5 55.328125 \r\nQ 8.5 64.0625 14.71875 69.140625 \r\nQ 20.953125 74.21875 31.78125 74.21875 \r\nQ 42.671875 74.21875 48.875 69.140625 \r\nQ 55.078125 64.0625 55.078125 55.328125 \r\nQ 55.078125 49.078125 51.53125 44.71875 \r\nQ 48 40.375 41.703125 38.8125 \r\nQ 48.828125 37.15625 52.796875 32.3125 \r\nQ 56.78125 27.484375 56.78125 20.515625 \r\nQ 56.78125 9.90625 50.3125 4.234375 \r\nQ 43.84375 -1.421875 31.78125 -1.421875 \r\nQ 19.734375 -1.421875 13.25 4.234375 \r\nQ 6.78125 9.90625 6.78125 20.515625 \r\nQ 6.78125 27.484375 10.78125 32.3125 \r\nQ 14.796875 37.15625 21.921875 38.8125 \r\nz\r\nM 18.3125 54.390625 \r\nQ 18.3125 48.734375 21.84375 45.5625 \r\nQ 25.390625 42.390625 31.78125 42.390625 \r\nQ 38.140625 42.390625 41.71875 45.5625 \r\nQ 45.3125 48.734375 45.3125 54.390625 \r\nQ 45.3125 60.0625 41.71875 63.234375 \r\nQ 38.140625 66.40625 31.78125 66.40625 \r\nQ 25.390625 66.40625 21.84375 63.234375 \r\nQ 18.3125 60.0625 18.3125 54.390625 \r\nz\r\n\" id=\"DejaVuSans-56\"/>\r\n       </defs>\r\n       <use xlink:href=\"#DejaVuSans-48\"/>\r\n       <use x=\"63.623047\" xlink:href=\"#DejaVuSans-46\"/>\r\n       <use x=\"95.410156\" xlink:href=\"#DejaVuSans-56\"/>\r\n      </g>\r\n     </g>\r\n    </g>\r\n    <g id=\"xtick_6\">\r\n     <g id=\"line2d_6\">\r\n      <g>\r\n       <use style=\"stroke:#000000;stroke-width:0.8;\" x=\"357.960886\" xlink:href=\"#m01b2660582\" y=\"224.64\"/>\r\n      </g>\r\n     </g>\r\n     <g id=\"text_6\">\r\n      <!-- 1.0 -->\r\n      <g transform=\"translate(350.009323 239.238438)scale(0.1 -0.1)\">\r\n       <defs>\r\n        <path d=\"M 12.40625 8.296875 \r\nL 28.515625 8.296875 \r\nL 28.515625 63.921875 \r\nL 10.984375 60.40625 \r\nL 10.984375 69.390625 \r\nL 28.421875 72.90625 \r\nL 38.28125 72.90625 \r\nL 38.28125 8.296875 \r\nL 54.390625 8.296875 \r\nL 54.390625 0 \r\nL 12.40625 0 \r\nz\r\n\" id=\"DejaVuSans-49\"/>\r\n       </defs>\r\n       <use xlink:href=\"#DejaVuSans-49\"/>\r\n       <use x=\"63.623047\" xlink:href=\"#DejaVuSans-46\"/>\r\n       <use x=\"95.410156\" xlink:href=\"#DejaVuSans-48\"/>\r\n      </g>\r\n     </g>\r\n    </g>\r\n   </g>\r\n   <g id=\"matplotlib.axis_2\">\r\n    <g id=\"ytick_1\">\r\n     <g id=\"line2d_7\">\r\n      <defs>\r\n       <path d=\"M 0 0 \r\nL -3.5 0 \r\n\" id=\"m561cfaa892\" style=\"stroke:#000000;stroke-width:0.8;\"/>\r\n      </defs>\r\n      <g>\r\n       <use style=\"stroke:#000000;stroke-width:0.8;\" x=\"35.304688\" xlink:href=\"#m561cfaa892\" y=\"210.015975\"/>\r\n      </g>\r\n     </g>\r\n     <g id=\"text_7\">\r\n      <!-- −80 -->\r\n      <g transform=\"translate(7.2 213.815193)scale(0.1 -0.1)\">\r\n       <defs>\r\n        <path d=\"M 10.59375 35.5 \r\nL 73.1875 35.5 \r\nL 73.1875 27.203125 \r\nL 10.59375 27.203125 \r\nz\r\n\" id=\"DejaVuSans-8722\"/>\r\n       </defs>\r\n       <use xlink:href=\"#DejaVuSans-8722\"/>\r\n       <use x=\"83.789062\" xlink:href=\"#DejaVuSans-56\"/>\r\n       <use x=\"147.412109\" xlink:href=\"#DejaVuSans-48\"/>\r\n      </g>\r\n     </g>\r\n    </g>\r\n    <g id=\"ytick_2\">\r\n     <g id=\"line2d_8\">\r\n      <g>\r\n       <use style=\"stroke:#000000;stroke-width:0.8;\" x=\"35.304688\" xlink:href=\"#m561cfaa892\" y=\"161.78048\"/>\r\n      </g>\r\n     </g>\r\n     <g id=\"text_8\">\r\n      <!-- −60 -->\r\n      <g transform=\"translate(7.2 165.579698)scale(0.1 -0.1)\">\r\n       <use xlink:href=\"#DejaVuSans-8722\"/>\r\n       <use x=\"83.789062\" xlink:href=\"#DejaVuSans-54\"/>\r\n       <use x=\"147.412109\" xlink:href=\"#DejaVuSans-48\"/>\r\n      </g>\r\n     </g>\r\n    </g>\r\n    <g id=\"ytick_3\">\r\n     <g id=\"line2d_9\">\r\n      <g>\r\n       <use style=\"stroke:#000000;stroke-width:0.8;\" x=\"35.304688\" xlink:href=\"#m561cfaa892\" y=\"113.544984\"/>\r\n      </g>\r\n     </g>\r\n     <g id=\"text_9\">\r\n      <!-- −40 -->\r\n      <g transform=\"translate(7.2 117.344203)scale(0.1 -0.1)\">\r\n       <use xlink:href=\"#DejaVuSans-8722\"/>\r\n       <use x=\"83.789062\" xlink:href=\"#DejaVuSans-52\"/>\r\n       <use x=\"147.412109\" xlink:href=\"#DejaVuSans-48\"/>\r\n      </g>\r\n     </g>\r\n    </g>\r\n    <g id=\"ytick_4\">\r\n     <g id=\"line2d_10\">\r\n      <g>\r\n       <use style=\"stroke:#000000;stroke-width:0.8;\" x=\"35.304688\" xlink:href=\"#m561cfaa892\" y=\"65.309489\"/>\r\n      </g>\r\n     </g>\r\n     <g id=\"text_10\">\r\n      <!-- −20 -->\r\n      <g transform=\"translate(7.2 69.108708)scale(0.1 -0.1)\">\r\n       <use xlink:href=\"#DejaVuSans-8722\"/>\r\n       <use x=\"83.789062\" xlink:href=\"#DejaVuSans-50\"/>\r\n       <use x=\"147.412109\" xlink:href=\"#DejaVuSans-48\"/>\r\n      </g>\r\n     </g>\r\n    </g>\r\n    <g id=\"ytick_5\">\r\n     <g id=\"line2d_11\">\r\n      <g>\r\n       <use style=\"stroke:#000000;stroke-width:0.8;\" x=\"35.304688\" xlink:href=\"#m561cfaa892\" y=\"17.073994\"/>\r\n      </g>\r\n     </g>\r\n     <g id=\"text_11\">\r\n      <!-- 0 -->\r\n      <g transform=\"translate(21.942188 20.873213)scale(0.1 -0.1)\">\r\n       <use xlink:href=\"#DejaVuSans-48\"/>\r\n      </g>\r\n     </g>\r\n    </g>\r\n   </g>\r\n   <g id=\"line2d_12\">\r\n    <path clip-path=\"url(#paef37b18ef)\" d=\"M 50.522869 210.111017 \r\nL 53.597249 210.204648 \r\nL 56.67163 210.296884 \r\nL 59.74601 210.387742 \r\nL 62.82039 210.477238 \r\nL 65.89477 210.56539 \r\nL 68.96915 210.652212 \r\nL 72.04353 210.737723 \r\nL 75.117911 210.821936 \r\nL 78.192291 210.90487 \r\nL 81.266671 210.986539 \r\nL 84.341051 211.066959 \r\nL 87.415431 211.146147 \r\nL 90.489811 211.224116 \r\nL 93.564192 211.300884 \r\nL 96.638572 211.376465 \r\nL 99.712952 211.450874 \r\nL 102.787332 211.524126 \r\nL 105.861712 211.596236 \r\nL 108.936092 211.667219 \r\nL 112.010473 211.737089 \r\nL 115.084853 211.805862 \r\nL 118.159233 211.87355 \r\nL 121.233613 211.940169 \r\nL 124.307993 212.005733 \r\nL 127.382373 212.070254 \r\nL 130.456754 212.133748 \r\nL 133.531134 212.196228 \r\nL 136.605514 212.257708 \r\nL 139.679894 212.3182 \r\nL 142.754274 212.377718 \r\nL 145.828654 212.436275 \r\nL 148.903035 212.493884 \r\nL 151.977415 212.550559 \r\nL 155.051795 212.606311 \r\nL 158.126175 212.661153 \r\nL 161.200555 212.715098 \r\nL 164.274935 212.768157 \r\nL 167.349316 212.820344 \r\nL 170.423696 212.87167 \r\nL 173.498076 212.922148 \r\nL 176.572456 212.971788 \r\nL 179.646836 213.020602 \r\nL 182.721216 213.068603 \r\nL 185.795597 213.1158 \r\nL 188.869977 213.162207 \r\nL 191.944357 213.207833 \r\nL 195.018737 213.252689 \r\nL 198.093117 213.296787 \r\nL 201.167497 213.340138 \r\nL 204.241878 213.382751 \r\nL 207.316258 213.424638 \r\nL 210.390638 213.465808 \r\nL 213.465018 213.506272 \r\nL 216.539398 213.546039 \r\nL 219.613778 213.585121 \r\nL 222.688159 213.623527 \r\nL 225.762539 213.661266 \r\nL 228.836919 213.698348 \r\nL 231.911299 213.734782 \r\nL 234.985679 213.770579 \r\nL 238.060059 213.805746 \r\nL 241.13444 213.840294 \r\nL 244.20882 213.874231 \r\nL 247.2832 213.907567 \r\nL 250.35758 213.940309 \r\nL 253.43196 213.972467 \r\nL 256.50634 214.004049 \r\nL 259.580721 214.035064 \r\nL 262.655101 214.06552 \r\nL 265.729481 214.095425 \r\nL 268.803861 214.124787 \r\nL 271.878241 214.153614 \r\nL 274.952621 214.181915 \r\nL 278.027002 214.209697 \r\nL 281.101382 214.236968 \r\nL 284.175762 214.263734 \r\nL 287.250142 214.290005 \r\nL 290.324522 214.315787 \r\nL 293.398902 214.341087 \r\nL 296.473283 214.365913 \r\nL 299.547663 214.390272 \r\nL 302.622043 214.414171 \r\nL 305.696423 214.437616 \r\nL 308.770803 214.460615 \r\nL 311.845183 214.483174 \r\nL 314.919564 214.505299 \r\nL 317.993944 214.526998 \r\nL 321.068324 214.548277 \r\nL 324.142704 214.569142 \r\nL 327.217084 214.5896 \r\nL 330.291464 214.609655 \r\nL 333.365845 214.629316 \r\nL 336.440225 214.648587 \r\nL 339.514605 214.667475 \r\nL 342.588985 214.685985 \r\nL 345.663365 214.704123 \r\nL 348.737745 214.721896 \r\nL 351.812126 214.739307 \r\nL 354.886506 214.756364 \r\n\" style=\"fill:none;stroke:#1f77b4;stroke-linecap:square;stroke-width:1.5;\"/>\r\n   </g>\r\n   <g id=\"line2d_13\">\r\n    <path clip-path=\"url(#paef37b18ef)\" d=\"M 50.522869 17.083636 \r\nL 53.597249 17.093274 \r\nL 56.67163 17.102906 \r\nL 59.74601 17.112533 \r\nL 62.82039 17.122155 \r\nL 65.89477 17.131772 \r\nL 68.96915 17.141383 \r\nL 72.04353 17.15099 \r\nL 75.117911 17.16059 \r\nL 78.192291 17.170186 \r\nL 81.266671 17.179776 \r\nL 84.341051 17.18936 \r\nL 87.415431 17.198938 \r\nL 90.489811 17.208511 \r\nL 93.564192 17.218079 \r\nL 96.638572 17.22764 \r\nL 99.712952 17.237196 \r\nL 102.787332 17.246746 \r\nL 105.861712 17.256289 \r\nL 108.936092 17.265827 \r\nL 112.010473 17.275359 \r\nL 115.084853 17.284885 \r\nL 118.159233 17.294404 \r\nL 121.233613 17.303918 \r\nL 124.307993 17.313425 \r\nL 127.382373 17.322926 \r\nL 130.456754 17.33242 \r\nL 133.531134 17.341908 \r\nL 136.605514 17.35139 \r\nL 139.679894 17.360866 \r\nL 142.754274 17.370334 \r\nL 145.828654 17.379797 \r\nL 148.903035 17.389252 \r\nL 151.977415 17.398702 \r\nL 155.051795 17.408144 \r\nL 158.126175 17.41758 \r\nL 161.200555 17.427009 \r\nL 164.274935 17.436431 \r\nL 167.349316 17.445847 \r\nL 170.423696 17.455255 \r\nL 173.498076 17.464657 \r\nL 176.572456 17.474052 \r\nL 179.646836 17.48344 \r\nL 182.721216 17.492821 \r\nL 185.795597 17.502194 \r\nL 188.869977 17.511561 \r\nL 191.944357 17.520921 \r\nL 195.018737 17.530274 \r\nL 198.093117 17.539619 \r\nL 201.167497 17.548958 \r\nL 204.241878 17.558289 \r\nL 207.316258 17.567613 \r\nL 210.390638 17.576929 \r\nL 213.465018 17.586239 \r\nL 216.539398 17.595541 \r\nL 219.613778 17.604835 \r\nL 222.688159 17.614123 \r\nL 225.762539 17.623403 \r\nL 228.836919 17.632675 \r\nL 231.911299 17.64194 \r\nL 234.985679 17.651198 \r\nL 238.060059 17.660448 \r\nL 241.13444 17.669691 \r\nL 244.20882 17.678926 \r\nL 247.2832 17.688153 \r\nL 250.35758 17.697373 \r\nL 253.43196 17.706586 \r\nL 256.50634 17.71579 \r\nL 259.580721 17.724987 \r\nL 262.655101 17.734177 \r\nL 265.729481 17.743359 \r\nL 268.803861 17.752533 \r\nL 271.878241 17.761699 \r\nL 274.952621 17.770857 \r\nL 278.027002 17.780008 \r\nL 281.101382 17.789151 \r\nL 284.175762 17.798286 \r\nL 287.250142 17.807414 \r\nL 290.324522 17.816533 \r\nL 293.398902 17.825645 \r\nL 296.473283 17.834749 \r\nL 299.547663 17.843845 \r\nL 302.622043 17.852933 \r\nL 305.696423 17.862013 \r\nL 308.770803 17.871085 \r\nL 311.845183 17.88015 \r\nL 314.919564 17.889206 \r\nL 317.993944 17.898254 \r\nL 321.068324 17.907295 \r\nL 324.142704 17.916327 \r\nL 327.217084 17.925352 \r\nL 330.291464 17.934368 \r\nL 333.365845 17.943376 \r\nL 336.440225 17.952377 \r\nL 339.514605 17.961369 \r\nL 342.588985 17.970353 \r\nL 345.663365 17.979329 \r\nL 348.737745 17.988297 \r\nL 351.812126 17.997257 \r\nL 354.886506 18.006209 \r\n\" style=\"fill:none;stroke:#ff7f0e;stroke-linecap:square;stroke-width:1.5;\"/>\r\n   </g>\r\n   <g id=\"patch_3\">\r\n    <path d=\"M 35.304688 224.64 \r\nL 35.304688 7.2 \r\n\" style=\"fill:none;stroke:#000000;stroke-linecap:square;stroke-linejoin:miter;stroke-width:0.8;\"/>\r\n   </g>\r\n   <g id=\"patch_4\">\r\n    <path d=\"M 370.104688 224.64 \r\nL 370.104688 7.2 \r\n\" style=\"fill:none;stroke:#000000;stroke-linecap:square;stroke-linejoin:miter;stroke-width:0.8;\"/>\r\n   </g>\r\n   <g id=\"patch_5\">\r\n    <path d=\"M 35.304688 224.64 \r\nL 370.104688 224.64 \r\n\" style=\"fill:none;stroke:#000000;stroke-linecap:square;stroke-linejoin:miter;stroke-width:0.8;\"/>\r\n   </g>\r\n   <g id=\"patch_6\">\r\n    <path d=\"M 35.304688 7.2 \r\nL 370.104688 7.2 \r\n\" style=\"fill:none;stroke:#000000;stroke-linecap:square;stroke-linejoin:miter;stroke-width:0.8;\"/>\r\n   </g>\r\n  </g>\r\n </g>\r\n <defs>\r\n  <clipPath id=\"paef37b18ef\">\r\n   <rect height=\"217.44\" width=\"334.8\" x=\"35.304688\" y=\"7.2\"/>\r\n  </clipPath>\r\n </defs>\r\n</svg>\r\n",
      "image/png": "[encoded data removed]"
     },
     "metadata": {
      "needs_background": "light"
     }
    }
   ],
   "source": [
    "plt.plot(t,results[0])\n",
    "plt.show()"
   ]
  },
  {
   "cell_type": "code",
   "execution_count": null,
   "metadata": {},
   "outputs": [],
   "source": []
  },
  {
   "cell_type": "code",
   "execution_count": null,
   "metadata": {},
   "outputs": [],
   "source": []
  },
  {
   "cell_type": "code",
   "execution_count": 9,
   "metadata": {},
   "outputs": [],
   "source": [
    "tm = 1e8 * c"
   ]
  },
  {
   "cell_type": "code",
   "execution_count": 113,
   "metadata": {},
   "outputs": [],
   "source": [
    "v = (1e8*0.4e-9 - 60e-3)"
   ]
  },
  {
   "cell_type": "code",
   "execution_count": 114,
   "metadata": {},
   "outputs": [
    {
     "data": {
      "text/plain": [
       "-0.019999999999999997"
      ]
     },
     "execution_count": 114,
     "metadata": {},
     "output_type": "execute_result"
    }
   ],
   "source": [
    "v"
   ]
  },
  {
   "cell_type": "code",
   "execution_count": 10,
   "metadata": {},
   "outputs": [
    {
     "data": {
      "text/plain": [
       "0.0012566370614359175"
      ]
     },
     "execution_count": 10,
     "metadata": {},
     "output_type": "execute_result"
    }
   ],
   "source": [
    "tm"
   ]
  },
  {
   "cell_type": "code",
   "execution_count": 11,
   "metadata": {},
   "outputs": [],
   "source": [
    "def sigmoid(x):\n",
    "    return 1 / (1 + np.exp(-x))"
   ]
  },
  {
   "cell_type": "code",
   "execution_count": 12,
   "metadata": {},
   "outputs": [],
   "source": [
    "#def iy(v, scale=1):\n",
    "#    return 0.5e-9*sigmoid(scale*(v+50))*(v+70)"
   ]
  },
  {
   "cell_type": "code",
   "execution_count": 159,
   "metadata": {},
   "outputs": [],
   "source": [
    "def y(v, y, tau=100e-3):\n",
    "    #return (1-y)/tau\n",
    "    return sigmoid((v +45e-3)*0.25e3)/tau"
   ]
  },
  {
   "cell_type": "code",
   "execution_count": 209,
   "metadata": {},
   "outputs": [],
   "source": [
    "def iy_d(v, y, conductance=0.5e-9, ey=-70e-3):\n",
    "    ii = conductance * y * (v - ey)\n",
    "  \n",
    "    #print(y)\n",
    "    #print((v - ey))\n",
    "    return ii"
   ]
  },
  {
   "cell_type": "code",
   "execution_count": 210,
   "metadata": {},
   "outputs": [],
   "source": [
    "def membrane_model(v, iy, rm=1e8, iext=0.4e-9, c=1.2e-11, vrest=-60e-3):\n",
    "    #print(iext)\n",
    "    a = -(v-vrest)/(rm*c) +(iy+iext)/c \n",
    "    #print(a)\n",
    "    return a"
   ]
  },
  {
   "cell_type": "code",
   "execution_count": 211,
   "metadata": {},
   "outputs": [],
   "source": [
    "def hh_euler(params, init_values, t, dt):\n",
    "    v_res = np.zeros((t.shape[0]+1))\n",
    "    ys = np.zeros_like(v_res)   \n",
    "    iys = np.zeros_like(v_res) \n",
    "    \n",
    "    v_res[0] = init_values['v']\n",
    "    ys[0] = init_values['y']  \n",
    "    \n",
    "    ie = np.zeros_like(t)\n",
    "    if params['is_ie_time_dependent']:        \n",
    "        idx_triggered = (t > params['t_trigger'])\n",
    "        ie[idx_triggered] = params['ie']\n",
    "        ie[~idx_triggered] = params['ie_pt'] \n",
    "    elif params['is_ie_external']:\n",
    "        ie = params['ie_func']\n",
    "    else:\n",
    "        ie.fill(params['ie'])\n",
    "    \n",
    "    for i in range(1, v_res.shape[0]): \n",
    "        ys[i] = ys[i-1] + dt *  y(ys[i-1], v_res[i-1])\n",
    "        \n",
    "        iys[i] = iy_d(v_res[i-1],ys[i-1])\n",
    "        \n",
    "        v_res[i] = v_res[i-1] + dt * membrane_model(v_res[i-1], iys[i], iext=ie[i-1])\n",
    "        \n",
    "    return {\n",
    "            'v_m':v_res[1:],\n",
    "            'i_y':iys[1:],\n",
    "            'y':ys[1:],}"
   ]
  },
  {
   "cell_type": "code",
   "execution_count": 212,
   "metadata": {},
   "outputs": [],
   "source": [
    "init_values = {}\n",
    "init_values['v'] = -60e-3\n",
    "init_values['y'] = 0\n",
    "\n",
    "params = {}\n",
    "params['is_ie_time_dependent'] = True\n",
    "params['ie'] = 0\n",
    "params['ie_pt'] = 0.4e-9\n",
    "params['t_trigger'] = 0.5\n",
    "\n",
    "del_t =1e-4\n",
    "max_t = 1\n",
    "t = np.arange(0, max_t, step=del_t)\n",
    "ret = hh_euler(params, init_values, t, del_t)"
   ]
  },
  {
   "cell_type": "code",
   "execution_count": 216,
   "metadata": {},
   "outputs": [
    {
     "data": {
      "text/plain": [
       "[<matplotlib.lines.Line2D at 0x1d5017a1b80>]"
      ]
     },
     "execution_count": 216,
     "metadata": {},
     "output_type": "execute_result"
    },
    {
     "data": {
      "image/png": "[encoded data removed]",
      "text/plain": [
       "<Figure size 432x288 with 1 Axes>"
      ]
     },
     "metadata": {
      "needs_background": "light"
     },
     "output_type": "display_data"
    }
   ],
   "source": [
    "plt.plot(t, ret['i_y'])"
   ]
  },
  {
   "cell_type": "code",
   "execution_count": 219,
   "metadata": {},
   "outputs": [
    {
     "data": {
      "image/png": "[encoded data removed]",
      "text/plain": [
       "<Figure size 432x288 with 1 Axes>"
      ]
     },
     "metadata": {
      "needs_background": "light"
     },
     "output_type": "display_data"
    }
   ],
   "source": [
    "plt.plot(t, (0.4e-9 - ret['i_y'])*1e9)\n",
    "plt.show()"
   ]
  },
  {
   "cell_type": "code",
   "execution_count": 205,
   "metadata": {},
   "outputs": [],
   "source": [
    "vs = np.linspace(-100e-3,0,100)"
   ]
  },
  {
   "cell_type": "code",
   "execution_count": 166,
   "metadata": {},
   "outputs": [],
   "source": [
    "a = sigmoid((vs +45e-3)*0.25e3)"
   ]
  },
  {
   "cell_type": "code",
   "execution_count": 167,
   "metadata": {},
   "outputs": [
    {
     "data": {
      "text/plain": [
       "[<matplotlib.lines.Line2D at 0x1d5000acfa0>]"
      ]
     },
     "execution_count": 167,
     "metadata": {},
     "output_type": "execute_result"
    },
    {
     "data": {
      "image/png": "[encoded data removed]",
      "text/plain": [
       "<Figure size 432x288 with 1 Axes>"
      ]
     },
     "metadata": {
      "needs_background": "light"
     },
     "output_type": "display_data"
    }
   ],
   "source": [
    "plt.plot(vs,a)"
   ]
  },
  {
   "cell_type": "code",
   "execution_count": null,
   "metadata": {},
   "outputs": [],
   "source": [
    "def hh_euler_2(params, init_values, t, dt):\n",
    "    v_res = np.zeros((t.shape[0]+1))\n",
    "    ys = np.zeros_like(v_res)   \n",
    "    iys = np.zeros_like(v_res) \n",
    "    \n",
    "    v_res[0] = init_values['v']\n",
    "    ys[0] = init_values['y']  \n",
    "    \n",
    "    ie = np.zeros_like(t)\n",
    "    if params['is_ie_time_dependent']:        \n",
    "        idx_triggered = (t > params['t_trigger'])\n",
    "        ie[idx_triggered] = params['ie']\n",
    "        ie[~idx_triggered] = params['ie_pt'] \n",
    "    elif params['is_ie_external']:\n",
    "        ie = params['ie_func']\n",
    "    else:\n",
    "        ie.fill(params['ie'])\n",
    "    \n",
    "    for i in range(1, v_res.shape[0]): \n",
    "        ys[i] = ys[i-1] + dt *  y(ys[i-1], v_res[i-1])\n",
    "        \n",
    "        iys[i] = iy_d(v_res[i-1],ys[i-1])\n",
    "        \n",
    "        v_res[i] = v_res[i-1] + dt * membrane_model(v_res[i-1], iys[i], iext=ie[i-1])\n",
    "        \n",
    "    return {\n",
    "            'v_m':v_res[1:],\n",
    "            'i_y':iys[1:],\n",
    "            'y':ys[1:],}"
   ]
  }
 ],
 "metadata": {
  "kernelspec": {
   "display_name": "Python 3",
   "language": "python",
   "name": "python3"
  },
  "language_info": {
   "codemirror_mode": {
    "name": "ipython",
    "version": 3
   },
   "file_extension": ".py",
   "mimetype": "text/x-python",
   "name": "python",
   "nbconvert_exporter": "python",
   "pygments_lexer": "ipython3",
   "version": "3.8.5-final"
  }
 },
 "nbformat": 4,
 "nbformat_minor": 4
}