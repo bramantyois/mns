{
 "cells": [
  {
   "cell_type": "code",
   "execution_count": 20,
   "metadata": {},
   "outputs": [],
   "source": [
    "import math\n",
    "import numpy as np\n",
    "import matplotlib.pyplot as plt"
   ]
  },
  {
   "cell_type": "code",
   "execution_count": 21,
   "metadata": {},
   "outputs": [],
   "source": [
    "v_idx = 0\n",
    "u_idx = 1"
   ]
  },
  {
   "cell_type": "code",
   "execution_count": 22,
   "metadata": {},
   "outputs": [],
   "source": [
    "def backward_euler(func, dfunc, past_states, constants, error_min = 1e-12, clip_lim = 5):\n",
    "    temp_states = past_states.copy()\n",
    "    error = np.ones_like(temp_states)\n",
    "\n",
    "    while np.amax(np.absolute(error)) > error_min:\n",
    "        f = func(temp_states, past_states, constants)\n",
    "        df = dfunc(temp_states, past_states, constants)\n",
    "\n",
    "        error = np.dot(np.linalg.inv(df), f)\n",
    "        error = np.clip(error, -clip_lim, clip_lim)\n",
    "\n",
    "        temp_states = np.subtract(temp_states, error)\n",
    "    return temp_states"
   ]
  },
  {
   "cell_type": "code",
   "execution_count": 23,
   "metadata": {},
   "outputs": [],
   "source": [
    "def izhi_f(states, past_states, constants):\n",
    "    F = np.zeros((2,1))\n",
    "    \n",
    "    F[0] = states[v_idx] - past_states[v_idx] - constants['del_t']*(0.04 * states[v_idx]**2 + 5*states[v_idx] + 140 - states[u_idx] + constants['i'])\n",
    "    F[1] = states[u_idx] - past_states[u_idx] - constants['del_t']*constants['a']*(constants['b'] * states[v_idx] - states[u_idx])\n",
    "    \n",
    "    return F"
   ]
  },
  {
   "cell_type": "code",
   "execution_count": 24,
   "metadata": {},
   "outputs": [],
   "source": [
    "def izhi_df(states, past_states, constants):\n",
    "    \n",
    "    j_f = np.zeros((2,2))\n",
    "    \n",
    "    j_f[0][0] = 1 - constants['del_t']*(0.08*states[v_idx] + 5)\n",
    "    j_f[0][1] = constants['del_t']\n",
    "    \n",
    "    j_f[1][0] = - constants['del_t']*constants['a']*constants['b']\n",
    "    j_f[1][1] = 1 + constants['del_t']*constants['a']\n",
    "    \n",
    "    return j_f"
   ]
  },
  {
   "cell_type": "code",
   "execution_count": 25,
   "metadata": {},
   "outputs": [],
   "source": [
    "def compute(input_i, init_states, constants):\n",
    "    ret_val = []\n",
    "    past_states = init_states.copy()\n",
    "    for i in range(input_i.shape[0]):\n",
    "        constants['i'] = input_i[i]\n",
    "        past_states = backward_euler(izhi_f, izhi_df, past_states, constants)\n",
    "        if past_states[v_idx] > 30:\n",
    "            past_states[v_idx] = constants['c']\n",
    "            past_states[u_idx] += constants['d']\n",
    "        ret_val.append(past_states)\n",
    "    return np.array(ret_val).reshape(-1, past_states.shape[0])   "
   ]
  },
  {
   "cell_type": "markdown",
   "metadata": {},
   "source": [
    "# 1"
   ]
  },
  {
   "cell_type": "code",
   "execution_count": 26,
   "metadata": {},
   "outputs": [],
   "source": [
    "constants = {}\n",
    "constants['a'] = 0.1\n",
    "constants['b'] = 0.05\n",
    "constants['c'] = -50\n",
    "constants['d'] = 8\n",
    "\n",
    "sample_rate = 20000\n",
    "max_t = 1\n",
    "constants['del_t'] = 1/sample_rate\n",
    "\n",
    "t = np.arange(0, max_t, step = constants['del_t'])\n",
    "i_s = np.linspace(0,0.01,2).tolist()\n",
    "\n",
    "results = []\n",
    "for i in i_s:\n",
    "    input_i = np.full(t.shape[0], i)\n",
    "    init_states = np.array([[-80],[0]])\n",
    "    result = compute(input_i, init_states, constants)\n",
    "    results.append(result)"
   ]
  },
  {
   "cell_type": "code",
   "execution_count": 30,
   "metadata": {},
   "outputs": [
    {
     "data": {
      "image/png": "[encoded data removed]",
      "text/plain": [
       "<Figure size 432x288 with 1 Axes>"
      ]
     },
     "metadata": {
      "needs_background": "light"
     },
     "output_type": "display_data"
    }
   ],
   "source": [
    "plt.plot(t,results[1])\n",
    "plt.show()"
   ]
  },
  {
   "cell_type": "code",
   "execution_count": null,
   "metadata": {},
   "outputs": [],
   "source": []
  },
  {
   "cell_type": "code",
   "execution_count": null,
   "metadata": {},
   "outputs": [],
   "source": []
  },
  {
   "cell_type": "code",
   "execution_count": 9,
   "metadata": {},
   "outputs": [],
   "source": [
    "tm = 1e8 * c"
   ]
  },
  {
   "cell_type": "code",
   "execution_count": 113,
   "metadata": {},
   "outputs": [],
   "source": [
    "v = (1e8*0.4e-9 - 60e-3)"
   ]
  },
  {
   "cell_type": "code",
   "execution_count": 114,
   "metadata": {},
   "outputs": [
    {
     "data": {
      "text/plain": [
       "-0.019999999999999997"
      ]
     },
     "execution_count": 114,
     "metadata": {},
     "output_type": "execute_result"
    }
   ],
   "source": [
    "v"
   ]
  },
  {
   "cell_type": "code",
   "execution_count": 10,
   "metadata": {},
   "outputs": [
    {
     "data": {
      "text/plain": [
       "0.0012566370614359175"
      ]
     },
     "execution_count": 10,
     "metadata": {},
     "output_type": "execute_result"
    }
   ],
   "source": [
    "tm"
   ]
  },
  {
   "cell_type": "code",
   "execution_count": 11,
   "metadata": {},
   "outputs": [],
   "source": [
    "def sigmoid(x):\n",
    "    return 1 / (1 + np.exp(-x))"
   ]
  },
  {
   "cell_type": "code",
   "execution_count": 12,
   "metadata": {},
   "outputs": [],
   "source": [
    "#def iy(v, scale=1):\n",
    "#    return 0.5e-9*sigmoid(scale*(v+50))*(v+70)"
   ]
  },
  {
   "cell_type": "code",
   "execution_count": 159,
   "metadata": {},
   "outputs": [],
   "source": [
    "def y(v, y, tau=100e-3):\n",
    "    #return (1-y)/tau\n",
    "    return sigmoid((v +45e-3)*0.25e3)/tau"
   ]
  },
  {
   "cell_type": "code",
   "execution_count": 209,
   "metadata": {},
   "outputs": [],
   "source": [
    "def iy_d(v, y, conductance=0.5e-9, ey=-70e-3):\n",
    "    ii = conductance * y * (v - ey)\n",
    "  \n",
    "    #print(y)\n",
    "    #print((v - ey))\n",
    "    return ii"
   ]
  },
  {
   "cell_type": "code",
   "execution_count": 210,
   "metadata": {},
   "outputs": [],
   "source": [
    "def membrane_model(v, iy, rm=1e8, iext=0.4e-9, c=1.2e-11, vrest=-60e-3):\n",
    "    #print(iext)\n",
    "    a = -(v-vrest)/(rm*c) +(iy+iext)/c \n",
    "    #print(a)\n",
    "    return a"
   ]
  },
  {
   "cell_type": "code",
   "execution_count": 211,
   "metadata": {},
   "outputs": [],
   "source": [
    "def hh_euler(params, init_values, t, dt):\n",
    "    v_res = np.zeros((t.shape[0]+1))\n",
    "    ys = np.zeros_like(v_res)   \n",
    "    iys = np.zeros_like(v_res) \n",
    "    \n",
    "    v_res[0] = init_values['v']\n",
    "    ys[0] = init_values['y']  \n",
    "    \n",
    "    ie = np.zeros_like(t)\n",
    "    if params['is_ie_time_dependent']:        \n",
    "        idx_triggered = (t > params['t_trigger'])\n",
    "        ie[idx_triggered] = params['ie']\n",
    "        ie[~idx_triggered] = params['ie_pt'] \n",
    "    elif params['is_ie_external']:\n",
    "        ie = params['ie_func']\n",
    "    else:\n",
    "        ie.fill(params['ie'])\n",
    "    \n",
    "    for i in range(1, v_res.shape[0]): \n",
    "        ys[i] = ys[i-1] + dt *  y(ys[i-1], v_res[i-1])\n",
    "        \n",
    "        iys[i] = iy_d(v_res[i-1],ys[i-1])\n",
    "        \n",
    "        v_res[i] = v_res[i-1] + dt * membrane_model(v_res[i-1], iys[i], iext=ie[i-1])\n",
    "        \n",
    "    return {\n",
    "            'v_m':v_res[1:],\n",
    "            'i_y':iys[1:],\n",
    "            'y':ys[1:],}"
   ]
  },
  {
   "cell_type": "code",
   "execution_count": 212,
   "metadata": {},
   "outputs": [],
   "source": [
    "init_values = {}\n",
    "init_values['v'] = -60e-3\n",
    "init_values['y'] = 0\n",
    "\n",
    "params = {}\n",
    "params['is_ie_time_dependent'] = True\n",
    "params['ie'] = 0\n",
    "params['ie_pt'] = 0.4e-9\n",
    "params['t_trigger'] = 0.5\n",
    "\n",
    "del_t =1e-4\n",
    "max_t = 1\n",
    "t = np.arange(0, max_t, step=del_t)\n",
    "ret = hh_euler(params, init_values, t, del_t)"
   ]
  },
  {
   "cell_type": "code",
   "execution_count": 216,
   "metadata": {},
   "outputs": [
    {
     "data": {
      "text/plain": [
       "[<matplotlib.lines.Line2D at 0x1d5017a1b80>]"
      ]
     },
     "execution_count": 216,
     "metadata": {},
     "output_type": "execute_result"
    },
    {
     "data": {
      "image/png": "[encoded data removed]",
      "text/plain": [
       "<Figure size 432x288 with 1 Axes>"
      ]
     },
     "metadata": {
      "needs_background": "light"
     },
     "output_type": "display_data"
    }
   ],
   "source": [
    "plt.plot(t, ret['i_y'])"
   ]
  },
  {
   "cell_type": "code",
   "execution_count": 219,
   "metadata": {},
   "outputs": [
    {
     "data": {
      "image/png": "[encoded data removed]",
      "text/plain": [
       "<Figure size 432x288 with 1 Axes>"
      ]
     },
     "metadata": {
      "needs_background": "light"
     },
     "output_type": "display_data"
    }
   ],
   "source": [
    "plt.plot(t, (0.4e-9 - ret['i_y'])*1e9)\n",
    "plt.show()"
   ]
  },
  {
   "cell_type": "code",
   "execution_count": 205,
   "metadata": {},
   "outputs": [],
   "source": [
    "vs = np.linspace(-100e-3,0,100)"
   ]
  },
  {
   "cell_type": "code",
   "execution_count": 166,
   "metadata": {},
   "outputs": [],
   "source": [
    "a = sigmoid((vs +45e-3)*0.25e3)"
   ]
  },
  {
   "cell_type": "code",
   "execution_count": 167,
   "metadata": {},
   "outputs": [
    {
     "data": {
      "text/plain": [
       "[<matplotlib.lines.Line2D at 0x1d5000acfa0>]"
      ]
     },
     "execution_count": 167,
     "metadata": {},
     "output_type": "execute_result"
    },
    {
     "data": {
      "image/png": "[encoded data removed]",
      "text/plain": [
       "<Figure size 432x288 with 1 Axes>"
      ]
     },
     "metadata": {
      "needs_background": "light"
     },
     "output_type": "display_data"
    }
   ],
   "source": [
    "plt.plot(vs,a)"
   ]
  },
  {
   "cell_type": "code",
   "execution_count": null,
   "metadata": {},
   "outputs": [],
   "source": [
    "def hh_euler_2(params, init_values, t, dt):\n",
    "    v_res = np.zeros((t.shape[0]+1))\n",
    "    ys = np.zeros_like(v_res)   \n",
    "    iys = np.zeros_like(v_res) \n",
    "    \n",
    "    v_res[0] = init_values['v']\n",
    "    ys[0] = init_values['y']  \n",
    "    \n",
    "    ie = np.zeros_like(t)\n",
    "    if params['is_ie_time_dependent']:        \n",
    "        idx_triggered = (t > params['t_trigger'])\n",
    "        ie[idx_triggered] = params['ie']\n",
    "        ie[~idx_triggered] = params['ie_pt'] \n",
    "    elif params['is_ie_external']:\n",
    "        ie = params['ie_func']\n",
    "    else:\n",
    "        ie.fill(params['ie'])\n",
    "    \n",
    "    for i in range(1, v_res.shape[0]): \n",
    "        ys[i] = ys[i-1] + dt *  y(ys[i-1], v_res[i-1])\n",
    "        \n",
    "        iys[i] = iy_d(v_res[i-1],ys[i-1])\n",
    "        \n",
    "        v_res[i] = v_res[i-1] + dt * membrane_model(v_res[i-1], iys[i], iext=ie[i-1])\n",
    "        \n",
    "    return {\n",
    "            'v_m':v_res[1:],\n",
    "            'i_y':iys[1:],\n",
    "            'y':ys[1:],}"
   ]
  }
 ],
 "metadata": {
  "kernelspec": {
   "display_name": "Python 3",
   "language": "python",
   "name": "python3"
  },
  "language_info": {
   "codemirror_mode": {
    "name": "ipython",
    "version": 3
   },
   "file_extension": ".py",
   "mimetype": "text/x-python",
   "name": "python",
   "nbconvert_exporter": "python",
   "pygments_lexer": "ipython3",
   "version": "3.8.5"
  }
 },
 "nbformat": 4,
 "nbformat_minor": 4
}
