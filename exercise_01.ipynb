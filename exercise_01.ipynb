{
 "cells": [
  {
   "cell_type": "markdown",
   "metadata": {},
   "source": [
    "MNS Computer Exercise 01\n",
    "\n",
    "Bramantyo Ibrahim Supriyatno"
   ]
  },
  {
   "cell_type": "code",
   "execution_count": 1,
   "metadata": {},
   "outputs": [],
   "source": [
    "import numpy as np"
   ]
  },
  {
   "cell_type": "code",
   "execution_count": 2,
   "metadata": {},
   "outputs": [],
   "source": [
    "import math "
   ]
  },
  {
   "cell_type": "code",
   "execution_count": 3,
   "metadata": {},
   "outputs": [],
   "source": [
    "import matplotlib.pyplot as plt"
   ]
  },
  {
   "cell_type": "code",
   "execution_count": 4,
   "metadata": {},
   "outputs": [],
   "source": [
    "np.random.seed(10)"
   ]
  },
  {
   "cell_type": "markdown",
   "metadata": {},
   "source": [
    "# Problem 1 - McCulloch–Pitts neuron"
   ]
  },
  {
   "cell_type": "markdown",
   "metadata": {},
   "source": [
    "## (a)"
   ]
  },
  {
   "cell_type": "code",
   "execution_count": 5,
   "metadata": {},
   "outputs": [],
   "source": [
    "def mcculloch_pitts_neuron(w, x):\n",
    "    return np.sign(np.dot(w.T, x))"
   ]
  },
  {
   "cell_type": "markdown",
   "metadata": {},
   "source": [
    "sanity check "
   ]
  },
  {
   "cell_type": "code",
   "execution_count": 6,
   "metadata": {},
   "outputs": [],
   "source": [
    "w = np.random.normal(0,1,(3,1))\n",
    "x = np.random.normal(0,1,(3,1))"
   ]
  },
  {
   "cell_type": "code",
   "execution_count": 7,
   "metadata": {},
   "outputs": [
    {
     "data": {
      "text/plain": [
       "array([[1.]])"
      ]
     },
     "execution_count": 7,
     "metadata": {},
     "output_type": "execute_result"
    }
   ],
   "source": [
    "mcculloch_pitts_neuron(w,x)"
   ]
  },
  {
   "cell_type": "markdown",
   "metadata": {},
   "source": [
    "## (b)"
   ]
  },
  {
   "cell_type": "code",
   "execution_count": 8,
   "metadata": {},
   "outputs": [],
   "source": [
    "w = np.array([[3,2,2]]).T\n",
    "X = np.array([\n",
    "    [-1,-1],\n",
    "    [-1, 1],\n",
    "    [ 1,-1],\n",
    "    [ 1, 1]]).T"
   ]
  },
  {
   "cell_type": "code",
   "execution_count": 9,
   "metadata": {},
   "outputs": [
    {
     "name": "stdout",
     "output_type": "stream",
     "text": [
      "[[-1. -1. -1. -1.]\n",
      " [-1. -1.  1.  1.]\n",
      " [-1.  1. -1.  1.]]\n"
     ]
    }
   ],
   "source": [
    "X_b = np.concatenate((-np.ones((1,X.shape[1])), X), axis=0)\n",
    "print(X_b)"
   ]
  },
  {
   "cell_type": "code",
   "execution_count": 10,
   "metadata": {},
   "outputs": [],
   "source": [
    "result = mcculloch_pitts_neuron(w,X_b)"
   ]
  },
  {
   "cell_type": "code",
   "execution_count": 11,
   "metadata": {},
   "outputs": [
    {
     "name": "stdout",
     "output_type": "stream",
     "text": [
      "[[-1 -1  1  1]\n",
      " [-1  1 -1  1]]\n"
     ]
    }
   ],
   "source": [
    "print(X)"
   ]
  },
  {
   "cell_type": "code",
   "execution_count": 12,
   "metadata": {},
   "outputs": [
    {
     "name": "stdout",
     "output_type": "stream",
     "text": [
      "[[-1. -1. -1.  1.]]\n"
     ]
    }
   ],
   "source": [
    "print(result)"
   ]
  },
  {
   "cell_type": "markdown",
   "metadata": {},
   "source": [
    "the function shows correct result (AND)"
   ]
  },
  {
   "cell_type": "markdown",
   "metadata": {},
   "source": [
    "# Problem 2 - Activation functions"
   ]
  },
  {
   "cell_type": "code",
   "execution_count": 13,
   "metadata": {},
   "outputs": [],
   "source": [
    "def sigmoid(x,a):\n",
    "    return (2 / (1 + np.exp(-a*x))) - 1"
   ]
  },
  {
   "cell_type": "code",
   "execution_count": 14,
   "metadata": {},
   "outputs": [],
   "source": [
    "def piecewise_linear(x,a):\n",
    "    thr = 1/a\n",
    "    gr_a = x >= thr\n",
    "    ls_a = x <= -thr\n",
    "    b_a = np.logical_not(np.logical_or(gr_a, ls_a))\n",
    "    \n",
    "    ret = a*x\n",
    "    ret[gr_a] = 1\n",
    "    ret[ls_a] = -1\n",
    "    \n",
    "    return ret"
   ]
  },
  {
   "cell_type": "code",
   "execution_count": 15,
   "metadata": {},
   "outputs": [],
   "source": [
    "A = [0.1,0.5,1]"
   ]
  },
  {
   "cell_type": "code",
   "execution_count": 16,
   "metadata": {},
   "outputs": [],
   "source": [
    "X = np.linspace(-10,10,100)"
   ]
  },
  {
   "cell_type": "code",
   "execution_count": 17,
   "metadata": {},
   "outputs": [
    {
     "data": {
      "image/png": "[encoded data removed]",
      "text/plain": [
       "<Figure size 432x288 with 1 Axes>"
      ]
     },
     "metadata": {
      "needs_background": "light"
     },
     "output_type": "display_data"
    }
   ],
   "source": [
    "for a in A:\n",
    "    y = sigmoid(X,a)\n",
    "    plt.plot(X,y,label=str(a))\n",
    "plt.legend()\n",
    "plt.title('sigmoid for various a')\n",
    "plt.xlabel('input')\n",
    "plt.ylabel('output')\n",
    "plt.show()"
   ]
  },
  {
   "cell_type": "code",
   "execution_count": 18,
   "metadata": {},
   "outputs": [
    {
     "data": {
      "image/png": "[encoded data removed]",
      "text/plain": [
       "<Figure size 432x288 with 1 Axes>"
      ]
     },
     "metadata": {
      "needs_background": "light"
     },
     "output_type": "display_data"
    }
   ],
   "source": [
    "for a in A:\n",
    "    y = piecewise_linear(X,a)\n",
    "    plt.plot(X,y,label=str(a))\n",
    "plt.legend()\n",
    "plt.title('piecewise linear for various a')\n",
    "plt.xlabel('input')\n",
    "plt.ylabel('output')\n",
    "plt.show()"
   ]
  },
  {
   "cell_type": "code",
   "execution_count": 19,
   "metadata": {},
   "outputs": [
    {
     "data": {
      "image/png": "[encoded data removed]",
      "text/plain": [
       "<Figure size 432x288 with 1 Axes>"
      ]
     },
     "metadata": {
      "needs_background": "light"
     },
     "output_type": "display_data"
    }
   ],
   "source": [
    "for a in A:\n",
    "    y = np.tanh(a*X)\n",
    "    plt.plot(X,y,label=str(a))\n",
    "plt.legend()\n",
    "plt.title('tanh linear for various a')\n",
    "plt.xlabel('input')\n",
    "plt.ylabel('output')\n",
    "plt.show()"
   ]
  },
  {
   "cell_type": "markdown",
   "metadata": {},
   "source": [
    "For the 3 activation functions, bigger a would yield steeper function. Thus, to mimic the step function, choose big value of a"
   ]
  },
  {
   "cell_type": "markdown",
   "metadata": {},
   "source": [
    "# Problem 3 - Rosenblatt Perceptron"
   ]
  },
  {
   "cell_type": "markdown",
   "metadata": {},
   "source": [
    "## (a)"
   ]
  },
  {
   "cell_type": "code",
   "execution_count": 20,
   "metadata": {},
   "outputs": [],
   "source": [
    "mean = 0\n",
    "var = 1\n",
    "num_training = 1000\n",
    "num_validation = 100\n",
    "epochs = 50\n",
    "lr = 1e-2"
   ]
  },
  {
   "cell_type": "code",
   "execution_count": 21,
   "metadata": {},
   "outputs": [],
   "source": [
    "x1 = np.random.normal(mean, var,(1, num_training))\n",
    "x2 = np.random.normal(mean, var,(1, num_training))\n",
    "\n",
    "b = -np.ones((1,num_training))\n",
    "X = np.concatenate((b, x1, x2), axis=0)"
   ]
  },
  {
   "cell_type": "code",
   "execution_count": 22,
   "metadata": {},
   "outputs": [],
   "source": [
    "m_X = np.logical_not(x2>=0.5-x1)\n",
    "\n",
    "dx = np.ones_like(x1)\n",
    "dx[m_X] = -1"
   ]
  },
  {
   "cell_type": "markdown",
   "metadata": {},
   "source": [
    "## (b)"
   ]
  },
  {
   "cell_type": "code",
   "execution_count": 23,
   "metadata": {},
   "outputs": [],
   "source": [
    "#W = np.random.normal(mean,var,(X.shape[0],1))\n",
    "W = np.zeros((X.shape[0],1))"
   ]
  },
  {
   "cell_type": "code",
   "execution_count": 24,
   "metadata": {},
   "outputs": [],
   "source": [
    "def update_weight(w, lr, dx, x):\n",
    "    y = mcculloch_pitts_neuron(w, x)\n",
    "    return w + lr*(dx - y)*x"
   ]
  },
  {
   "cell_type": "code",
   "execution_count": 25,
   "metadata": {
    "scrolled": true
   },
   "outputs": [
    {
     "name": "stdout",
     "output_type": "stream",
     "text": [
      "epoch num: 1\n",
      "weight differences : 0.02336780878181753\n",
      "epoch num: 2\n",
      "weight differences : 0.0017117432264522423\n",
      "epoch num: 3\n",
      "weight differences : 0.0003452312834612598\n",
      "epoch num: 4\n",
      "weight differences : 0.0004577380335817221\n",
      "epoch num: 5\n",
      "weight differences : 1.2187863386198983e-05\n",
      "epoch num: 6\n",
      "weight differences : 0.0\n",
      "epoch num: 7\n",
      "weight differences : 0.0\n",
      "epoch num: 8\n",
      "weight differences : 0.0\n",
      "epoch num: 9\n",
      "weight differences : 0.0\n",
      "epoch num: 10\n",
      "weight differences : 0.0\n",
      "epoch num: 11\n",
      "weight differences : 0.0\n",
      "epoch num: 12\n",
      "weight differences : 0.0\n",
      "epoch num: 13\n",
      "weight differences : 0.0\n",
      "epoch num: 14\n",
      "weight differences : 0.0\n",
      "epoch num: 15\n",
      "weight differences : 0.0\n",
      "epoch num: 16\n",
      "weight differences : 0.0\n",
      "epoch num: 17\n",
      "weight differences : 0.0\n",
      "epoch num: 18\n",
      "weight differences : 0.0\n",
      "epoch num: 19\n",
      "weight differences : 0.0\n",
      "epoch num: 20\n",
      "weight differences : 0.0\n",
      "epoch num: 21\n",
      "weight differences : 0.0\n",
      "epoch num: 22\n",
      "weight differences : 0.0\n",
      "epoch num: 23\n",
      "weight differences : 0.0\n",
      "epoch num: 24\n",
      "weight differences : 0.0\n",
      "epoch num: 25\n",
      "weight differences : 0.0\n",
      "epoch num: 26\n",
      "weight differences : 0.0\n",
      "epoch num: 27\n",
      "weight differences : 0.0\n",
      "epoch num: 28\n",
      "weight differences : 0.0\n",
      "epoch num: 29\n",
      "weight differences : 0.0\n",
      "epoch num: 30\n",
      "weight differences : 0.0\n",
      "epoch num: 31\n",
      "weight differences : 0.0\n",
      "epoch num: 32\n",
      "weight differences : 0.0\n",
      "epoch num: 33\n",
      "weight differences : 0.0\n",
      "epoch num: 34\n",
      "weight differences : 0.0\n",
      "epoch num: 35\n",
      "weight differences : 0.0\n",
      "epoch num: 36\n",
      "weight differences : 0.0\n",
      "epoch num: 37\n",
      "weight differences : 0.0\n",
      "epoch num: 38\n",
      "weight differences : 0.0\n",
      "epoch num: 39\n",
      "weight differences : 0.0\n",
      "epoch num: 40\n",
      "weight differences : 0.0\n",
      "epoch num: 41\n",
      "weight differences : 0.0\n",
      "epoch num: 42\n",
      "weight differences : 0.0\n",
      "epoch num: 43\n",
      "weight differences : 0.0\n",
      "epoch num: 44\n",
      "weight differences : 0.0\n",
      "epoch num: 45\n",
      "weight differences : 0.0\n",
      "epoch num: 46\n",
      "weight differences : 0.0\n",
      "epoch num: 47\n",
      "weight differences : 0.0\n",
      "epoch num: 48\n",
      "weight differences : 0.0\n",
      "epoch num: 49\n",
      "weight differences : 0.0\n",
      "epoch num: 50\n",
      "weight differences : 0.0\n"
     ]
    }
   ],
   "source": [
    "new_W = W.copy() \n",
    "for i in range(epochs):\n",
    "    \n",
    "    #print(new_W)\n",
    "    print('epoch num: {}'.format(i+1))\n",
    "    old_W = new_W.copy()\n",
    "    for j in range (num_training):\n",
    "        #print(X[:,j].reshape((-1,1)).shape)\n",
    "        new_W = update_weight(new_W, lr, dx[:,j].reshape((-1,1)), X[:,j].reshape((-1,1)))\n",
    "    print('weight differences : {}'.format(np.square(old_W - new_W).sum()))"
   ]
  },
  {
   "cell_type": "code",
   "execution_count": 26,
   "metadata": {},
   "outputs": [],
   "source": [
    "y_train = mcculloch_pitts_neuron(new_W, X)"
   ]
  },
  {
   "cell_type": "code",
   "execution_count": 27,
   "metadata": {},
   "outputs": [
    {
     "name": "stdout",
     "output_type": "stream",
     "text": [
      "training error : 0.0 \n"
     ]
    }
   ],
   "source": [
    "print('training error : {} '.format(np.square(y_train-dx).mean()))"
   ]
  },
  {
   "cell_type": "markdown",
   "metadata": {},
   "source": [
    "The choice of learning rate would be a trade-off between the speed of convergence and the possibility of the convergence. Bigger learning rate yield faster convergence but it would possibly never reach the minimum error. On the other hand, using smaller learning rate would guarantee more for the algorithm to reach the minimum error, although it would cost more time. Choosing learning rate value that is not too big and not too small is the best practice for the beginning."
   ]
  },
  {
   "cell_type": "markdown",
   "metadata": {},
   "source": [
    "## (c)"
   ]
  },
  {
   "cell_type": "code",
   "execution_count": 28,
   "metadata": {},
   "outputs": [],
   "source": [
    "x1_val = np.random.normal(mean, var,(1, num_validation))\n",
    "x2_val = np.random.normal(mean, var,(1, num_validation))\n",
    "\n",
    "b_val = -np.ones((1,num_validation))\n",
    "X_val = np.concatenate((b_val, x1_val, x2_val), axis=0)"
   ]
  },
  {
   "cell_type": "code",
   "execution_count": 29,
   "metadata": {},
   "outputs": [],
   "source": [
    "m_X_val = np.logical_not(x2_val>=0.5-x1_val)\n",
    "\n",
    "dx_val = np.ones_like(x1_val)\n",
    "dx_val[m_X_val] = -1"
   ]
  },
  {
   "cell_type": "code",
   "execution_count": 30,
   "metadata": {},
   "outputs": [],
   "source": [
    "y_val = mcculloch_pitts_neuron(new_W, X_val)"
   ]
  },
  {
   "cell_type": "code",
   "execution_count": 31,
   "metadata": {},
   "outputs": [
    {
     "name": "stdout",
     "output_type": "stream",
     "text": [
      "validation set error : 0.0\n"
     ]
    }
   ],
   "source": [
    "val_error = np.square(y_val - dx_val).mean()\n",
    "print('validation set error : {}'.format(val_error))"
   ]
  },
  {
   "cell_type": "markdown",
   "metadata": {},
   "source": [
    "Here it is shown that the perceptron works well on validation set"
   ]
  },
  {
   "cell_type": "markdown",
   "metadata": {},
   "source": [
    "## (d)"
   ]
  },
  {
   "cell_type": "code",
   "execution_count": 32,
   "metadata": {},
   "outputs": [],
   "source": [
    "y_train_bool = y_train ==1"
   ]
  },
  {
   "cell_type": "code",
   "execution_count": 33,
   "metadata": {},
   "outputs": [
    {
     "data": {
      "image/png": "[encoded data removed]",
      "text/plain": [
       "<Figure size 432x288 with 1 Axes>"
      ]
     },
     "metadata": {
      "needs_background": "light"
     },
     "output_type": "display_data"
    }
   ],
   "source": [
    "plt.scatter(x1[y_train_bool], x2[y_train_bool],c='green', label='+1')\n",
    "plt.scatter(x1[np.logical_not(y_train_bool)], x2[np.logical_not(y_train_bool)],c='red', label='-1')\n",
    "plt.title('training set plot')\n",
    "plt.xlabel('x1')\n",
    "plt.ylabel('x2')\n",
    "plt.grid()\n",
    "plt.quiver(new_W[0]*new_W[1], new_W[0]*new_W[2], new_W[1], new_W[2], units = 'xy')\n",
    "plt.axis('equal')\n",
    "plt.show()"
   ]
  },
  {
   "cell_type": "markdown",
   "metadata": {},
   "source": [
    "The data that has direction toward the weight vector would result in positive value. This also can be seen from the dot product equatin in which it contains the cos of the angle between the weight vector and the data. On the other hand, data that has direction on the opposite of the weight vector would give a negative result. \n",
    "\n",
    "In addition, when the weight vector direction match the direction of the training datam we might conclude that the training is working well"
   ]
  },
  {
   "cell_type": "markdown",
   "metadata": {},
   "source": [
    "# Problem 4 - Linear Separability"
   ]
  },
  {
   "cell_type": "markdown",
   "metadata": {},
   "source": [
    "## (a)"
   ]
  },
  {
   "cell_type": "code",
   "execution_count": 34,
   "metadata": {},
   "outputs": [],
   "source": [
    "epochs = 10\n",
    "lr=1e-2"
   ]
  },
  {
   "cell_type": "code",
   "execution_count": 35,
   "metadata": {},
   "outputs": [],
   "source": [
    "x1 = np.array([[0,0,1,1]])\n",
    "x2 = np.array([[0,1,0,1]])"
   ]
  },
  {
   "cell_type": "code",
   "execution_count": 36,
   "metadata": {},
   "outputs": [],
   "source": [
    "y_train_bool = np.logical_xor(x1, x2).reshape((1,-1))\n",
    "y_train = y_train_bool.astype(int)"
   ]
  },
  {
   "cell_type": "code",
   "execution_count": 37,
   "metadata": {},
   "outputs": [],
   "source": [
    "b = -np.ones((1,y_train.shape[1]))\n",
    "X_b = np.concatenate((b, x1, x2), axis=0)"
   ]
  },
  {
   "cell_type": "code",
   "execution_count": 38,
   "metadata": {},
   "outputs": [],
   "source": [
    "W = np.random.normal(mean,var,(X_b.shape[0],1))\n",
    "#W = np.zeros((X_b.shape[0],1))"
   ]
  },
  {
   "cell_type": "code",
   "execution_count": 39,
   "metadata": {},
   "outputs": [
    {
     "name": "stdout",
     "output_type": "stream",
     "text": [
      "epoch num: 1\n",
      "weight differences : 0.000600000000000001\n",
      "epoch num: 2\n",
      "weight differences : 0.000600000000000001\n",
      "epoch num: 3\n",
      "weight differences : 0.000600000000000001\n",
      "epoch num: 4\n",
      "weight differences : 0.000600000000000001\n",
      "epoch num: 5\n",
      "weight differences : 0.000600000000000001\n",
      "epoch num: 6\n",
      "weight differences : 0.000600000000000001\n",
      "epoch num: 7\n",
      "weight differences : 0.000600000000000001\n",
      "epoch num: 8\n",
      "weight differences : 0.000600000000000001\n",
      "epoch num: 9\n",
      "weight differences : 0.000600000000000001\n",
      "epoch num: 10\n",
      "weight differences : 0.000600000000000001\n"
     ]
    }
   ],
   "source": [
    "new_W = W.copy() \n",
    "for i in range(epochs):\n",
    "    print('epoch num: {}'.format(i+1))\n",
    "    old_W = new_W.copy()\n",
    "    for j in range (X_b.shape[1]):\n",
    "        new_W = update_weight(new_W, lr, y_train[:,j].reshape((-1,1)), X_b[:,j].reshape((-1,1)))\n",
    "    print('weight differences : {}'.format(np.square(old_W - new_W).sum()))"
   ]
  },
  {
   "cell_type": "markdown",
   "metadata": {},
   "source": [
    "## (b)"
   ]
  },
  {
   "cell_type": "code",
   "execution_count": 40,
   "metadata": {},
   "outputs": [],
   "source": [
    "y_predict = mcculloch_pitts_neuron(new_W, X_b)"
   ]
  },
  {
   "cell_type": "code",
   "execution_count": 41,
   "metadata": {},
   "outputs": [
    {
     "name": "stdout",
     "output_type": "stream",
     "text": [
      "training error : 0.5 \n"
     ]
    }
   ],
   "source": [
    "print('training error : {} '.format(np.square(y_train-y_predict).mean()))"
   ]
  },
  {
   "cell_type": "markdown",
   "metadata": {},
   "source": [
    "the differences of the weight ,as shown above, does not indicate convergence.  "
   ]
  },
  {
   "cell_type": "markdown",
   "metadata": {},
   "source": [
    "## (c)"
   ]
  },
  {
   "cell_type": "code",
   "execution_count": 42,
   "metadata": {},
   "outputs": [],
   "source": [
    "x_boundary = np.linspace(-10,10,100)\n",
    "y_boundary = (-new_W[1]/new_W[2])*x_boundary -new_W[0]/new_W[2]"
   ]
  },
  {
   "cell_type": "code",
   "execution_count": 43,
   "metadata": {},
   "outputs": [
    {
     "data": {
      "image/png": "[encoded data removed]",
      "text/plain": [
       "<Figure size 432x288 with 1 Axes>"
      ]
     },
     "metadata": {
      "needs_background": "light"
     },
     "output_type": "display_data"
    }
   ],
   "source": [
    "plt.scatter(x1[y_train_bool], x2[y_train_bool],c='green', label='1')\n",
    "plt.scatter(x1[np.logical_not(y_train_bool)], x2[np.logical_not(y_train_bool)],c='red', label='0')\n",
    "\n",
    "plt.plot(x_boundary,y_boundary, label='boundary line')\n",
    "\n",
    "plt.title('xor plot')\n",
    "plt.xlabel('x1')\n",
    "plt.ylabel('x2')\n",
    "plt.xlim(-0.25,1.25)\n",
    "plt.ylim(-0.25,1.25)\n",
    "plt.legend()\n",
    "plt.grid()\n",
    "plt.show()"
   ]
  },
  {
   "cell_type": "markdown",
   "metadata": {},
   "source": [
    "As shown in the plot, there is no possible line that could classify the data. So by using a simple linear model such as one layer perceptron, the weight will never converge, hence the classification would never be good."
   ]
  }
 ],
 "metadata": {
  "kernelspec": {
   "display_name": "Python 3",
   "language": "python",
   "name": "python3"
  },
  "language_info": {
   "codemirror_mode": {
    "name": "ipython",
    "version": 3
   },
   "file_extension": ".py",
   "mimetype": "text/x-python",
   "name": "python",
   "nbconvert_exporter": "python",
   "pygments_lexer": "ipython3",
   "version": "3.8.5"
  }
 },
 "nbformat": 4,
 "nbformat_minor": 4
}
